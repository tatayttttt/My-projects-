{
 "cells": [
  {
   "cell_type": "markdown",
   "metadata": {},
   "source": [
    "## Домашняя работа №2"
   ]
  },
  {
   "cell_type": "code",
   "execution_count": null,
   "metadata": {},
   "outputs": [],
   "source": [
    "import numpy as np\n",
    "import random as rd\n",
    "import array\n",
    "import matplotlib.pyplot as plt\n",
    "import matplotlib as mpl\n",
    "import scipy.stats as sts\n",
    "from scipy.stats import norm\n",
    "from scipy import stats"
   ]
  },
  {
   "cell_type": "code",
   "execution_count": null,
   "metadata": {},
   "outputs": [],
   "source": [
    "np.random.seed(42)"
   ]
  },
  {
   "cell_type": "markdown",
   "metadata": {},
   "source": [
    "1. Сравнить среднюю прибыль при различном количистве кг купленных плавников с учётом того, что спрос в среднем составляет 60 кг ежедневно с дисперсией 10 кг."
   ]
  },
  {
   "cell_type": "markdown",
   "metadata": {},
   "source": [
    "2. Для расчёты прибыли необходимо расчитать количество проданных деликатесны блюд(кг) и количество проданных плавников(кг) со скидкой. Для этого предположим 100 различных сценариев, в каждом из которых мы покупаем 1, 2, 3, ...100 кг плавников."
   ]
  },
  {
   "cell_type": "code",
   "execution_count": null,
   "metadata": {},
   "outputs": [],
   "source": [
    "pos_bht=np.arange(1,101)#сгенерируем от 1 до 100 возможных покупопок плавников (1 кг, 2 кг и т.д. до 100кг)\n",
    "sold_dish=[]#определим количество кг проданных деликатесных блюд  \n",
    "for bht in pos_bht:\n",
    "    demand=np.random.normal(60, 10, 1000).round()#генерируем различные варианты спроса из нормального рапределения\n",
    "    for dem in demand:\n",
    "        if bht>=dem:\n",
    "            sold_dish=np.append(sold_dish,dem)#если мы купили плавников больше, чем выпал спрос, то кол-во проданных деликатесных блюд равно выпавшему спросу\n",
    "        else:\n",
    "                sold_dish=np.append(sold_dish,bht)#если спрос оказался больше, чем кол-во купленных кг плавников, то количество проданных деликатесных блюд равно количеству купленных плавников  "
   ]
  },
  {
   "cell_type": "code",
   "execution_count": null,
   "metadata": {
    "scrolled": true
   },
   "outputs": [],
   "source": [
    "pos_bht=np.arange(1,101)\n",
    "sold_sale=[]#сгенерируем количество проданных кг плавников со скидкой  \n",
    "for bht in pos_bht:\n",
    "    for dem in demand:\n",
    "        demand=np.random.normal(60, 10, 1000).round()\n",
    "        if bht>dem:\n",
    "            sold_sale=np.append(sold_sale,(bht-dem))#если мы купили больше, чем выпал спрос, то со скидкой мы продадим разницу, т.е. bht-dem\n",
    "        else:\n",
    "                sold_sale=np.append(sold_sale,0)# если мы купили меньше, чем выпал спрос, то у нас ничего не останется для продажи со скидкой\n",
    "sold_sale.size\n",
    "sold_all=np.stack((sold_dish,sold_sale), axis=True)#получим вектор, где первый подэлемент элемента-количество кг проданных деликатесных блюд, а второй количесво проданных кг плавников со скидкой   \n",
    "profit=[]# сгенерируем вектор возможных прибылей, для этого будем подставлять соответсвующией элементы из ветора sold_all в функцию прибыли \n",
    "for bht in pos_bht:\n",
    "    for i in range(100000):\n",
    "        if i<bht*1000<=i+1000:#задаём условие, которое позволяет подставлять возможные выпавшие уровни спроса для одного и того же числа купенных плавников. Т.е. купили 1 кг, фиксируем его и подставляем все возможные уровни спроса(1000) из нормального рапределения\n",
    "            profit=np.append(profit, sold_all[i][0]*12+sold_all[i][1]*6-bht*7.5)"
   ]
  },
  {
   "cell_type": "code",
   "execution_count": null,
   "metadata": {},
   "outputs": [],
   "source": [
    "mean_profits=[]#посчитаем вектор средних прибылей для случаев, когда мы покупаем 1, 2 ...100 кг плавников. Т.е 1-ый элемент этого вектора- средняя прибыль,для случая когда мы покупаем 1 кг, 2-ой, когда 2 кг и т.д.\n",
    "for i in range(100):\n",
    "    mean_profits=np.append(mean_profits, np.mean(profit[i*1000:(i+1)*1000]))\n",
    "max_mean_profit=np.max(mean_profits)#находим максимальную среднюю прибыль\n",
    "print(max_mean_profit,\"-наибольшая средняя прибыль из возможных\")\n",
    "print(np.argmax(mean_profits),\"-количество плавников, которое нужно покупать, чтобы иметь максмальную прибыль\")"
   ]
  },
  {
   "cell_type": "code",
   "execution_count": null,
   "metadata": {},
   "outputs": [],
   "source": [
    "markers_on = [np.argmax(mean_profits)]\n",
    "plt.plot(mean_profits, 'k--', markevery=markers_on, marker='D', markerfacecolor='red')\n",
    "plt.xlabel('количество купленных плавников ')\n",
    "plt.ylabel('Средняя прибыль')"
   ]
  },
  {
   "cell_type": "code",
   "execution_count": null,
   "metadata": {},
   "outputs": [],
   "source": [
    "opt_profit=profit[np.argmax(mean_profits)*1000:(np.argmax(mean_profits)+1)*1000]\n",
    "plt.hist(opt_profit,bins=20, color=\"lightblue\")\n",
    "plt.xlabel('Прибыль')\n",
    "plt.ylabel('Частота')\n",
    "opt_profit_mode=stats.mode(opt_profit)\n",
    "opt_profit_median=np.median(opt_profit)\n",
    "opt_profit_aver=np.mean(opt_profit)\n",
    "opt_profit_prec_10=np.percentile(opt_profit, 10)\n",
    "opt_profit_prec_90=np.percentile(opt_profit, 90)"
   ]
  },
  {
   "cell_type": "markdown",
   "metadata": {},
   "source": [
    "3."
   ]
  },
  {
   "cell_type": "code",
   "execution_count": null,
   "metadata": {},
   "outputs": [],
   "source": [
    "print(opt_profit_mode,\"---МОДА\")\n",
    "print(opt_profit_median, \"---МЕДИАНА\")\n",
    "print(opt_profit_aver, \"---СРЕДНЯЯ\")\n",
    "print(opt_profit_prec_10, \"---10-ЫЙ ПРОЦЕНТИЛЬ\")\n",
    "print(opt_profit_prec_90, \"---90-ЫЙ ПРОЦЕНТИЛЬ\")"
   ]
  }
 ],
 "metadata": {
  "kernelspec": {
   "display_name": "Python 3",
   "language": "python",
   "name": "python3"
  },
  "language_info": {
   "codemirror_mode": {
    "name": "ipython",
    "version": 3
   },
   "file_extension": ".py",
   "mimetype": "text/x-python",
   "name": "python",
   "nbconvert_exporter": "python",
   "pygments_lexer": "ipython3",
   "version": "3.8.3"
  }
 },
 "nbformat": 4,
 "nbformat_minor": 4
}
