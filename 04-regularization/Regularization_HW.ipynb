{
  "cells": [
    {
      "cell_type": "markdown",
      "metadata": {
        "id": "view-in-github",
        "colab_type": "text"
      },
      "source": [
        "<a href=\"https://colab.research.google.com/github/tatayttttt/My-projects-/blob/main/04-regularization/Regularization_HW.ipynb\" target=\"_parent\"><img src=\"https://colab.research.google.com/assets/colab-badge.svg\" alt=\"Open In Colab\"/></a>"
      ]
    },
    {
      "cell_type": "code",
      "execution_count": 54,
      "metadata": {
        "id": "gIxJDCLGXJ6W"
      },
      "outputs": [],
      "source": [
        "import matplotlib.pyplot as plt\n",
        "import numpy as np\n",
        "import pandas as pd\n",
        "\n",
        "from sklearn.linear_model import Ridge, Lasso"
      ]
    },
    {
      "cell_type": "markdown",
      "metadata": {
        "id": "hyhdWxi4okEN"
      },
      "source": [
        "# Task 1 (3 points + 2 points for a well organized and easy to read plot + 1 point for the short comment)"
      ]
    },
    {
      "cell_type": "markdown",
      "metadata": {
        "id": "Wv6bM-m_ow8p"
      },
      "source": [
        "Consider the following toy dataset with pairs of correlated features:"
      ]
    },
    {
      "cell_type": "code",
      "execution_count": 39,
      "metadata": {
        "id": "yN5gx_1qonAl"
      },
      "outputs": [],
      "source": [
        "def gen_data(N, correlation=0.5):\n",
        "  # start from 4 independent features:\n",
        "  X = np.random.uniform(-1., 1., size=(N, 4))\n",
        "\n",
        "  y = X @ [2.3, -4.7, -1.7, 3.2] # true dependence\n",
        "\n",
        "  # add correlations, so that X[:,0] correlates with X[:,2] and\n",
        "  # X[:,1] correlates with X[:,3]:\n",
        "  X[:,2:] = correlation * X[:,:2] + (1 - correlation) * X[:,2:]\n",
        "\n",
        "  # add some noise to the targets\n",
        "  y += np.random.normal(size=y.shape)\n",
        "\n",
        "  return X, y"
      ]
    },
    {
      "cell_type": "code",
      "source": [
        "N = 1000\n",
        "data = gen_data(N)\n",
        "X = data[0]\n",
        "y = data[1]\n"
      ],
      "metadata": {
        "id": "McPdgyro1Ddl"
      },
      "execution_count": 40,
      "outputs": []
    },
    {
      "cell_type": "code",
      "source": [
        "#X_frame = pd.DataFrame(data[0])"
      ],
      "metadata": {
        "colab": {
          "base_uri": "https://localhost:8080/",
          "height": 424
        },
        "id": "4ACJmq_g40zb",
        "outputId": "0105b04b-0ea6-4e9a-ce15-cd7d9e3c925d"
      },
      "execution_count": 61,
      "outputs": [
        {
          "output_type": "execute_result",
          "data": {
            "text/plain": [
              "            0         1         2         3\n",
              "0    0.404302 -0.947459  0.355745 -0.487722\n",
              "1   -0.594685  0.519413  0.158037 -0.077025\n",
              "2   -0.208452  0.474473  0.357071  0.078652\n",
              "3   -0.897781  0.305110 -0.785597  0.496289\n",
              "4   -0.999558 -0.514509 -0.825476 -0.589318\n",
              "..        ...       ...       ...       ...\n",
              "995 -0.550541  0.663846 -0.250978  0.292387\n",
              "996  0.548972 -0.386801  0.516500 -0.226997\n",
              "997  0.435637  0.895435  0.213715  0.554917\n",
              "998 -0.647086 -0.172352 -0.737735 -0.389489\n",
              "999  0.133867  0.047831 -0.417896  0.474364\n",
              "\n",
              "[1000 rows x 4 columns]"
            ],
            "text/html": [
              "\n",
              "  <div id=\"df-c39800a2-61da-475d-988c-3fa26040831b\">\n",
              "    <div class=\"colab-df-container\">\n",
              "      <div>\n",
              "<style scoped>\n",
              "    .dataframe tbody tr th:only-of-type {\n",
              "        vertical-align: middle;\n",
              "    }\n",
              "\n",
              "    .dataframe tbody tr th {\n",
              "        vertical-align: top;\n",
              "    }\n",
              "\n",
              "    .dataframe thead th {\n",
              "        text-align: right;\n",
              "    }\n",
              "</style>\n",
              "<table border=\"1\" class=\"dataframe\">\n",
              "  <thead>\n",
              "    <tr style=\"text-align: right;\">\n",
              "      <th></th>\n",
              "      <th>0</th>\n",
              "      <th>1</th>\n",
              "      <th>2</th>\n",
              "      <th>3</th>\n",
              "    </tr>\n",
              "  </thead>\n",
              "  <tbody>\n",
              "    <tr>\n",
              "      <th>0</th>\n",
              "      <td>0.404302</td>\n",
              "      <td>-0.947459</td>\n",
              "      <td>0.355745</td>\n",
              "      <td>-0.487722</td>\n",
              "    </tr>\n",
              "    <tr>\n",
              "      <th>1</th>\n",
              "      <td>-0.594685</td>\n",
              "      <td>0.519413</td>\n",
              "      <td>0.158037</td>\n",
              "      <td>-0.077025</td>\n",
              "    </tr>\n",
              "    <tr>\n",
              "      <th>2</th>\n",
              "      <td>-0.208452</td>\n",
              "      <td>0.474473</td>\n",
              "      <td>0.357071</td>\n",
              "      <td>0.078652</td>\n",
              "    </tr>\n",
              "    <tr>\n",
              "      <th>3</th>\n",
              "      <td>-0.897781</td>\n",
              "      <td>0.305110</td>\n",
              "      <td>-0.785597</td>\n",
              "      <td>0.496289</td>\n",
              "    </tr>\n",
              "    <tr>\n",
              "      <th>4</th>\n",
              "      <td>-0.999558</td>\n",
              "      <td>-0.514509</td>\n",
              "      <td>-0.825476</td>\n",
              "      <td>-0.589318</td>\n",
              "    </tr>\n",
              "    <tr>\n",
              "      <th>...</th>\n",
              "      <td>...</td>\n",
              "      <td>...</td>\n",
              "      <td>...</td>\n",
              "      <td>...</td>\n",
              "    </tr>\n",
              "    <tr>\n",
              "      <th>995</th>\n",
              "      <td>-0.550541</td>\n",
              "      <td>0.663846</td>\n",
              "      <td>-0.250978</td>\n",
              "      <td>0.292387</td>\n",
              "    </tr>\n",
              "    <tr>\n",
              "      <th>996</th>\n",
              "      <td>0.548972</td>\n",
              "      <td>-0.386801</td>\n",
              "      <td>0.516500</td>\n",
              "      <td>-0.226997</td>\n",
              "    </tr>\n",
              "    <tr>\n",
              "      <th>997</th>\n",
              "      <td>0.435637</td>\n",
              "      <td>0.895435</td>\n",
              "      <td>0.213715</td>\n",
              "      <td>0.554917</td>\n",
              "    </tr>\n",
              "    <tr>\n",
              "      <th>998</th>\n",
              "      <td>-0.647086</td>\n",
              "      <td>-0.172352</td>\n",
              "      <td>-0.737735</td>\n",
              "      <td>-0.389489</td>\n",
              "    </tr>\n",
              "    <tr>\n",
              "      <th>999</th>\n",
              "      <td>0.133867</td>\n",
              "      <td>0.047831</td>\n",
              "      <td>-0.417896</td>\n",
              "      <td>0.474364</td>\n",
              "    </tr>\n",
              "  </tbody>\n",
              "</table>\n",
              "<p>1000 rows × 4 columns</p>\n",
              "</div>\n",
              "      <button class=\"colab-df-convert\" onclick=\"convertToInteractive('df-c39800a2-61da-475d-988c-3fa26040831b')\"\n",
              "              title=\"Convert this dataframe to an interactive table.\"\n",
              "              style=\"display:none;\">\n",
              "        \n",
              "  <svg xmlns=\"http://www.w3.org/2000/svg\" height=\"24px\"viewBox=\"0 0 24 24\"\n",
              "       width=\"24px\">\n",
              "    <path d=\"M0 0h24v24H0V0z\" fill=\"none\"/>\n",
              "    <path d=\"M18.56 5.44l.94 2.06.94-2.06 2.06-.94-2.06-.94-.94-2.06-.94 2.06-2.06.94zm-11 1L8.5 8.5l.94-2.06 2.06-.94-2.06-.94L8.5 2.5l-.94 2.06-2.06.94zm10 10l.94 2.06.94-2.06 2.06-.94-2.06-.94-.94-2.06-.94 2.06-2.06.94z\"/><path d=\"M17.41 7.96l-1.37-1.37c-.4-.4-.92-.59-1.43-.59-.52 0-1.04.2-1.43.59L10.3 9.45l-7.72 7.72c-.78.78-.78 2.05 0 2.83L4 21.41c.39.39.9.59 1.41.59.51 0 1.02-.2 1.41-.59l7.78-7.78 2.81-2.81c.8-.78.8-2.07 0-2.86zM5.41 20L4 18.59l7.72-7.72 1.47 1.35L5.41 20z\"/>\n",
              "  </svg>\n",
              "      </button>\n",
              "      \n",
              "  <style>\n",
              "    .colab-df-container {\n",
              "      display:flex;\n",
              "      flex-wrap:wrap;\n",
              "      gap: 12px;\n",
              "    }\n",
              "\n",
              "    .colab-df-convert {\n",
              "      background-color: #E8F0FE;\n",
              "      border: none;\n",
              "      border-radius: 50%;\n",
              "      cursor: pointer;\n",
              "      display: none;\n",
              "      fill: #1967D2;\n",
              "      height: 32px;\n",
              "      padding: 0 0 0 0;\n",
              "      width: 32px;\n",
              "    }\n",
              "\n",
              "    .colab-df-convert:hover {\n",
              "      background-color: #E2EBFA;\n",
              "      box-shadow: 0px 1px 2px rgba(60, 64, 67, 0.3), 0px 1px 3px 1px rgba(60, 64, 67, 0.15);\n",
              "      fill: #174EA6;\n",
              "    }\n",
              "\n",
              "    [theme=dark] .colab-df-convert {\n",
              "      background-color: #3B4455;\n",
              "      fill: #D2E3FC;\n",
              "    }\n",
              "\n",
              "    [theme=dark] .colab-df-convert:hover {\n",
              "      background-color: #434B5C;\n",
              "      box-shadow: 0px 1px 3px 1px rgba(0, 0, 0, 0.15);\n",
              "      filter: drop-shadow(0px 1px 2px rgba(0, 0, 0, 0.3));\n",
              "      fill: #FFFFFF;\n",
              "    }\n",
              "  </style>\n",
              "\n",
              "      <script>\n",
              "        const buttonEl =\n",
              "          document.querySelector('#df-c39800a2-61da-475d-988c-3fa26040831b button.colab-df-convert');\n",
              "        buttonEl.style.display =\n",
              "          google.colab.kernel.accessAllowed ? 'block' : 'none';\n",
              "\n",
              "        async function convertToInteractive(key) {\n",
              "          const element = document.querySelector('#df-c39800a2-61da-475d-988c-3fa26040831b');\n",
              "          const dataTable =\n",
              "            await google.colab.kernel.invokeFunction('convertToInteractive',\n",
              "                                                     [key], {});\n",
              "          if (!dataTable) return;\n",
              "\n",
              "          const docLinkHtml = 'Like what you see? Visit the ' +\n",
              "            '<a target=\"_blank\" href=https://colab.research.google.com/notebooks/data_table.ipynb>data table notebook</a>'\n",
              "            + ' to learn more about interactive tables.';\n",
              "          element.innerHTML = '';\n",
              "          dataTable['output_type'] = 'display_data';\n",
              "          await google.colab.output.renderOutput(dataTable, element);\n",
              "          const docLink = document.createElement('div');\n",
              "          docLink.innerHTML = docLinkHtml;\n",
              "          element.appendChild(docLink);\n",
              "        }\n",
              "      </script>\n",
              "    </div>\n",
              "  </div>\n",
              "  "
            ]
          },
          "metadata": {},
          "execution_count": 61
        }
      ]
    },
    {
      "cell_type": "code",
      "source": [
        "# downloading the required packages\n",
        "from sklearn.pipeline import make_pipeline\n",
        "from sklearn.preprocessing import PolynomialFeatures\n",
        "from sklearn.metrics import mean_squared_error"
      ],
      "metadata": {
        "id": "-1GduJdow5-c"
      },
      "execution_count": 41,
      "outputs": []
    },
    {
      "cell_type": "code",
      "source": [
        "# dividing data on train and test samples \n",
        "from sklearn.model_selection import train_test_split # downloading the required package\n",
        "X_train, X_test, y_train, y_test = train_test_split(X, y, test_size=200, random_state=39)\n",
        "\n",
        "# Inserting data into Frame \n",
        "X_train_frame = pd.DataFrame(X_train)\n",
        "X_test_frame = pd.DataFrame(X_test)"
      ],
      "metadata": {
        "id": "EPTXhz_Xx63y"
      },
      "execution_count": 69,
      "outputs": []
    },
    {
      "cell_type": "code",
      "source": [
        "# Ridge\n",
        "model = make_pipeline(\n",
        "    PolynomialFeatures(9, include_bias=False),\n",
        "    Ridge(alpha=1.)\n",
        ")\n",
        "\n",
        "model.fit(X_train, y_train)\n",
        "\n",
        "print('train mse = ', mean_squared_error(y_train, model.predict(X_train)))\n",
        "print('test mse = ', mean_squared_error(y_test, model.predict(X_test)))"
      ],
      "metadata": {
        "id": "5P3g_6zuz_Su",
        "outputId": "3d4f9f96-2f80-40a3-afea-ff383188ec1a",
        "colab": {
          "base_uri": "https://localhost:8080/"
        }
      },
      "execution_count": 44,
      "outputs": [
        {
          "output_type": "stream",
          "name": "stdout",
          "text": [
            "train mse =  0.8915400356513865\n",
            "test mse =  0.9151549276073144\n"
          ]
        }
      ]
    },
    {
      "cell_type": "code",
      "source": [
        "plt.figure(figsize=(15, 4))\n",
        "plt.scatter(X_test_frame[1], y_test, label='data')\n",
        "plt.scatter(X_test_frame[1], model.predict(X_test), label='prediction')\n",
        "plt.legend()"
      ],
      "metadata": {
        "colab": {
          "base_uri": "https://localhost:8080/",
          "height": 283
        },
        "id": "9ohXmwTv3Mra",
        "outputId": "3ade0b52-439f-4e56-ffde-b4c3214bcf94"
      },
      "execution_count": 70,
      "outputs": [
        {
          "output_type": "execute_result",
          "data": {
            "text/plain": [
              "<matplotlib.legend.Legend at 0x7f4c2d6b9990>"
            ]
          },
          "metadata": {},
          "execution_count": 70
        },
        {
          "output_type": "display_data",
          "data": {
            "text/plain": [
              "<Figure size 1080x288 with 1 Axes>"
            ],
            "image/png": "[encoded data removed]"
          },
          "metadata": {
            "needs_background": "light"
          }
        }
      ]
    },
    {
      "cell_type": "code",
      "source": [
        "#Ridge and Lasso (without the bias term!), for different correlation levels and various regularization powers."
      ],
      "metadata": {
        "id": "SNZn51tC56bD"
      },
      "execution_count": 71,
      "outputs": []
    },
    {
      "cell_type": "code",
      "source": [
        "from tqdm import tqdm"
      ],
      "metadata": {
        "id": "GaAYpx8L61o2"
      },
      "execution_count": 72,
      "outputs": []
    },
    {
      "cell_type": "code",
      "source": [
        "reg_powers = np.logspace(-12, 5, 18 * 5, base=10)\n",
        "\n",
        "\n",
        "train_mse = []\n",
        "test_mse = []\n",
        "\n",
        "params = []\n",
        "\n",
        "for alpha in tqdm(reg_powers):\n",
        "  linear_model = Ridge(alpha=alpha)\n",
        "  model = make_pipeline(\n",
        "    PolynomialFeatures(9, include_bias=False),\n",
        "    linear_model\n",
        "  )\n",
        "  model.fit(X_train, y_train)\n",
        "\n",
        "  params.append(\n",
        "      np.append(linear_model.coef_,\n",
        "                linear_model.intercept_)\n",
        "  )\n",
        "\n",
        "  train_mse.append(mean_squared_error(y_train, model.predict(X_train)))\n",
        "  test_mse.append(mean_squared_error(y_test, model.predict(X_test)))\n",
        "\n",
        "params = np.array(params)\n"
      ],
      "metadata": {
        "colab": {
          "base_uri": "https://localhost:8080/"
        },
        "id": "a70VYezG3wbR",
        "outputId": "1a86b194-c7cf-43c4-c2e9-bd7c42ec9175"
      },
      "execution_count": 74,
      "outputs": [
        {
          "output_type": "stream",
          "name": "stderr",
          "text": [
            "100%|██████████| 90/90 [00:13<00:00,  6.47it/s]\n"
          ]
        }
      ]
    },
    {
      "cell_type": "code",
      "source": [
        "reg_powers"
      ],
      "metadata": {
        "colab": {
          "base_uri": "https://localhost:8080/"
        },
        "id": "VCbZ66lV9AAo",
        "outputId": "7925b9a1-b000-4916-c1d5-afc579260361"
      },
      "execution_count": 78,
      "outputs": [
        {
          "output_type": "execute_result",
          "data": {
            "text/plain": [
              "array([1.00000000e-12, 1.55242717e-12, 2.41003013e-12, 3.74139626e-12,\n",
              "       5.80824522e-12, 9.01687771e-12, 1.39980460e-11, 2.17309470e-11,\n",
              "       3.37357126e-11, 5.23722369e-11, 8.13040837e-11, 1.26218669e-10,\n",
              "       1.95945291e-10, 3.04190795e-10, 4.72234056e-10, 7.33108980e-10,\n",
              "       1.13809830e-09, 1.76681473e-09, 2.74285120e-09, 4.25807673e-09,\n",
              "       6.61035402e-09, 1.02620932e-08, 1.59311524e-08, 2.47319538e-08,\n",
              "       3.83945572e-08, 5.96047539e-08, 9.25320396e-08, 1.43649253e-07,\n",
              "       2.23005003e-07, 3.46199027e-07, 5.37448777e-07, 8.34350085e-07,\n",
              "       1.29526774e-06, 2.01080884e-06, 3.12163429e-06, 4.84610990e-06,\n",
              "       7.52323269e-06, 1.16792709e-05, 1.81312174e-05, 2.81473946e-05,\n",
              "       4.36967803e-05, 6.78360691e-05, 1.05310557e-04, 1.63486970e-04,\n",
              "       2.53801615e-04, 3.94008524e-04, 6.11669540e-04, 9.49572415e-04,\n",
              "       1.47414202e-03, 2.28849813e-03, 3.55272668e-03, 5.51534944e-03,\n",
              "       8.56217834e-03, 1.32921583e-02, 2.06351078e-02, 3.20345020e-02,\n",
              "       4.97312315e-02, 7.72041151e-02, 1.19853766e-01, 1.86064243e-01,\n",
              "       2.88851187e-01, 4.48420433e-01, 6.96140065e-01, 1.08070675e+00,\n",
              "       1.67771853e+00, 2.60453583e+00, 4.04335220e+00, 6.27700983e+00,\n",
              "       9.74460063e+00, 1.51277828e+01, 2.34847811e+01, 3.64584124e+01,\n",
              "       5.65990301e+01, 8.78658723e+01, 1.36405368e+02, 2.11759399e+02,\n",
              "       3.28741046e+02, 5.10346533e+02, 7.92275825e+02, 1.22995052e+03,\n",
              "       1.90940861e+03, 2.96421781e+03, 4.60173228e+03, 7.14385423e+03,\n",
              "       1.10903134e+04, 1.72169039e+04, 2.67279895e+04, 4.14932572e+04,\n",
              "       6.44152600e+04, 1.00000000e+05])"
            ]
          },
          "metadata": {},
          "execution_count": 78
        }
      ]
    },
    {
      "cell_type": "markdown",
      "metadata": {
        "id": "egoowPhmuWBW"
      },
      "source": [
        "Fit this dataset with Ridge and Lasso (**without the bias term!**), for different correlation levels and various regularization powers.\n",
        "\n",
        "Separately for Ridge and Lasso, and separately for different correlation levels, plot the fitted parameter values as a function of regularization power (x-axis in log scale). Make sure to make some color and pattern coding to make it clear which parameters correspond to correlating groups of features, e.g.:\n",
        "```python\n",
        "# Same color (red), different patterns (solid vs dashed) for features 0 and 2\n",
        "plt.plot(alpha_values, param_0, color='red', label='0')\n",
        "plt.plot(alpha_values, param_2, '--', color='red', label='2')\n",
        "\n",
        "# Same color (blue), different patterns (solid vs dashed) for features 1 and 3\n",
        "plt.plot(alpha_values, param_1, color='blue', label='1')\n",
        "plt.plot(alpha_values, param_3, '--', color='blue', label='3')\n",
        "```\n",
        "Please also add legends, axis labels and/or titles to be able to understand what's shown on this or that plot.\n",
        "\n",
        "What do you observe? How regularization affects the two kinds of models for different correlation levels? Write a short comment."
      ]
    },
    {
      "cell_type": "code",
      "execution_count": null,
      "metadata": {
        "id": "5k6TNTssqvHs"
      },
      "outputs": [],
      "source": [
        "from tqdm import tqdm\n",
        "\n",
        "for correlation in [0.1, 0.5, 0.9]:\n",
        "  # dataset to fit (no need to split into train/test in this task):\n",
        "  X, y = gen_data(500, correlation)\n",
        "\n",
        "  # regularization powers:\n",
        "  alpha_values = np.logspace(-4, 4, 100, base=10)\n",
        "\n",
        "  # lists to collect models' parameters:\n",
        "  params_ridge = []\n",
        "  params_lasso = []\n",
        "\n",
        "  for alpha in tqdm(alpha_values):\n",
        "    <YOUR CODE>"
      ]
    }
  ],
  "metadata": {
    "colab": {
      "name": "Regularization_HW.ipynb",
      "provenance": [],
      "toc_visible": true,
      "include_colab_link": true
    },
    "kernelspec": {
      "display_name": "Python 3 (ipykernel)",
      "language": "python",
      "name": "python3"
    },
    "language_info": {
      "codemirror_mode": {
        "name": "ipython",
        "version": 3
      },
      "file_extension": ".py",
      "mimetype": "text/x-python",
      "name": "python",
      "nbconvert_exporter": "python",
      "pygments_lexer": "ipython3",
      "version": "3.8.11"
    }
  },
  "nbformat": 4,
  "nbformat_minor": 0
}