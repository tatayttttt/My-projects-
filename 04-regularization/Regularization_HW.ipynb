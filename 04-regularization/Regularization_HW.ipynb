{
  "cells": [
    {
      "cell_type": "markdown",
      "metadata": {
        "id": "view-in-github",
        "colab_type": "text"
      },
      "source": [
        "<a href=\"https://colab.research.google.com/github/tatayttttt/My-projects-/blob/main/04-regularization/Regularization_HW.ipynb\" target=\"_parent\"><img src=\"https://colab.research.google.com/assets/colab-badge.svg\" alt=\"Open In Colab\"/></a>"
      ]
    },
    {
      "cell_type": "code",
      "execution_count": 1,
      "metadata": {
        "id": "gIxJDCLGXJ6W"
      },
      "outputs": [],
      "source": [
        "import matplotlib.pyplot as plt\n",
        "import numpy as np\n",
        "\n",
        "from sklearn.linear_model import Ridge, Lasso"
      ]
    },
    {
      "cell_type": "markdown",
      "metadata": {
        "id": "hyhdWxi4okEN"
      },
      "source": [
        "# Task 1 (3 points + 2 points for a well organized and easy to read plot + 1 point for the short comment)"
      ]
    },
    {
      "cell_type": "markdown",
      "metadata": {
        "id": "Wv6bM-m_ow8p"
      },
      "source": [
        "Consider the following toy dataset with pairs of correlated features:"
      ]
    },
    {
      "cell_type": "code",
      "execution_count": 2,
      "metadata": {
        "id": "yN5gx_1qonAl"
      },
      "outputs": [],
      "source": [
        "def gen_data(N, correlation=0.5):\n",
        "  # start from 4 independent features:\n",
        "  X = np.random.uniform(-1., 1., size=(N, 4))\n",
        "\n",
        "  y = X @ [2.3, -4.7, -1.7, 3.2] # true dependence\n",
        "\n",
        "  # add correlations, so that X[:,0] correlates with X[:,2] and\n",
        "  # X[:,1] correlates with X[:,3]:\n",
        "  X[:,2:] = correlation * X[:,:2] + (1 - correlation) * X[:,2:]\n",
        "\n",
        "  # add some noise to the targets\n",
        "  y += np.random.normal(size=y.shape)\n",
        "\n",
        "  return X, y"
      ]
    },
    {
      "cell_type": "code",
      "source": [
        "# Ridge\n",
        "model = make_pipeline(\n",
        "    PolynomialFeatures(9, include_bias=False),\n",
        "    Ridge(alpha=1.)\n",
        ")\n",
        "\n",
        "model.fit(X, y)\n",
        "\n",
        "print('train mse = ', mean_squared_error(y_train, model.predict(X_train)))\n",
        "print('test mse = ', mean_squared_error(y_test, model.predict(X_test)))"
      ],
      "metadata": {
        "id": "5P3g_6zuz_Su",
        "outputId": "4f1db623-6e62-4861-897f-8e75f706c4e4",
        "colab": {
          "base_uri": "https://localhost:8080/",
          "height": 240
        }
      },
      "execution_count": 3,
      "outputs": [
        {
          "output_type": "error",
          "ename": "NameError",
          "evalue": "ignored",
          "traceback": [
            "\u001b[0;31m---------------------------------------------------------------------------\u001b[0m",
            "\u001b[0;31mNameError\u001b[0m                                 Traceback (most recent call last)",
            "\u001b[0;32m<ipython-input-3-6d16e43bfd38>\u001b[0m in \u001b[0;36m<module>\u001b[0;34m\u001b[0m\n\u001b[1;32m      1\u001b[0m \u001b[0;31m# Ridge\u001b[0m\u001b[0;34m\u001b[0m\u001b[0;34m\u001b[0m\u001b[0;34m\u001b[0m\u001b[0m\n\u001b[0;32m----> 2\u001b[0;31m model = make_pipeline(\n\u001b[0m\u001b[1;32m      3\u001b[0m     \u001b[0mPolynomialFeatures\u001b[0m\u001b[0;34m(\u001b[0m\u001b[0;36m9\u001b[0m\u001b[0;34m,\u001b[0m \u001b[0minclude_bias\u001b[0m\u001b[0;34m=\u001b[0m\u001b[0;32mFalse\u001b[0m\u001b[0;34m)\u001b[0m\u001b[0;34m,\u001b[0m\u001b[0;34m\u001b[0m\u001b[0;34m\u001b[0m\u001b[0m\n\u001b[1;32m      4\u001b[0m     \u001b[0mRidge\u001b[0m\u001b[0;34m(\u001b[0m\u001b[0malpha\u001b[0m\u001b[0;34m=\u001b[0m\u001b[0;36m1.\u001b[0m\u001b[0;34m)\u001b[0m\u001b[0;34m\u001b[0m\u001b[0;34m\u001b[0m\u001b[0m\n\u001b[1;32m      5\u001b[0m )\n",
            "\u001b[0;31mNameError\u001b[0m: name 'make_pipeline' is not defined"
          ]
        }
      ]
    },
    {
      "cell_type": "markdown",
      "metadata": {
        "id": "egoowPhmuWBW"
      },
      "source": [
        "Fit this dataset with Ridge and Lasso (**without the bias term!**), for different correlation levels and various regularization powers.\n",
        "\n",
        "Separately for Ridge and Lasso, and separately for different correlation levels, plot the fitted parameter values as a function of regularization power (x-axis in log scale). Make sure to make some color and pattern coding to make it clear which parameters correspond to correlating groups of features, e.g.:\n",
        "```python\n",
        "# Same color (red), different patterns (solid vs dashed) for features 0 and 2\n",
        "plt.plot(alpha_values, param_0, color='red', label='0')\n",
        "plt.plot(alpha_values, param_2, '--', color='red', label='2')\n",
        "\n",
        "# Same color (blue), different patterns (solid vs dashed) for features 1 and 3\n",
        "plt.plot(alpha_values, param_1, color='blue', label='1')\n",
        "plt.plot(alpha_values, param_3, '--', color='blue', label='3')\n",
        "```\n",
        "Please also add legends, axis labels and/or titles to be able to understand what's shown on this or that plot.\n",
        "\n",
        "What do you observe? How regularization affects the two kinds of models for different correlation levels? Write a short comment."
      ]
    },
    {
      "cell_type": "code",
      "execution_count": null,
      "metadata": {
        "id": "5k6TNTssqvHs"
      },
      "outputs": [],
      "source": [
        "from tqdm import tqdm\n",
        "\n",
        "for correlation in [0.1, 0.5, 0.9]:\n",
        "  # dataset to fit (no need to split into train/test in this task):\n",
        "  X, y = gen_data(500, correlation)\n",
        "\n",
        "  # regularization powers:\n",
        "  alpha_values = np.logspace(-4, 4, 100, base=10)\n",
        "\n",
        "  # lists to collect models' parameters:\n",
        "  params_ridge = []\n",
        "  params_lasso = []\n",
        "\n",
        "  for alpha in tqdm(alpha_values):\n",
        "    <YOUR CODE>"
      ]
    }
  ],
  "metadata": {
    "colab": {
      "name": "Regularization_HW.ipynb",
      "provenance": [],
      "toc_visible": true,
      "include_colab_link": true
    },
    "kernelspec": {
      "display_name": "Python 3 (ipykernel)",
      "language": "python",
      "name": "python3"
    },
    "language_info": {
      "codemirror_mode": {
        "name": "ipython",
        "version": 3
      },
      "file_extension": ".py",
      "mimetype": "text/x-python",
      "name": "python",
      "nbconvert_exporter": "python",
      "pygments_lexer": "ipython3",
      "version": "3.8.11"
    }
  },
  "nbformat": 4,
  "nbformat_minor": 0
}