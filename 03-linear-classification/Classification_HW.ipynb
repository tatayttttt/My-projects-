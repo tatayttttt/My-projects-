{
  "cells": [
    {
      "cell_type": "markdown",
      "metadata": {
        "id": "view-in-github",
        "colab_type": "text"
      },
      "source": [
        "<a href=\"https://colab.research.google.com/github/tatayttttt/My-projects-/blob/main/03-linear-classification/Classification_HW.ipynb\" target=\"_parent\"><img src=\"https://colab.research.google.com/assets/colab-badge.svg\" alt=\"Open In Colab\"/></a>"
      ]
    },
    {
      "cell_type": "markdown",
      "metadata": {
        "id": "jsk47s-JzFMY"
      },
      "source": [
        "## Task 1 (2 points + 1 bonus point + 1 super-bonus point)"
      ]
    },
    {
      "cell_type": "markdown",
      "metadata": {
        "id": "_72sYvZSzO4B"
      },
      "source": [
        "(Titanic data again)\n",
        "\n",
        "Build a model with `sklearn`'s `LogisticRegression` to get the accuracy of at least 0.80 (0.82 for the bonus point, 0.85 for the super-bonus point) on the test set.\n",
        "\n",
        "Some (optional) suggestions:\n",
        "- Add new features (e.g. missing value indicator columns)\n",
        "- Fill missing values\n",
        "- Encode categorical features (e.g. one-hot encoding)\n",
        "- Scale the features (e.g. with standard or robust scaler)\n",
        "- Think of other ways of preprocessing the features (e.g. `Fare` $\\to$ `log(Fare)`)\n",
        "- Try adding polynomial features\n",
        "\n"
      ]
    },
    {
      "cell_type": "code",
      "execution_count": null,
      "metadata": {
        "id": "4CWHxPY62I-D"
      },
      "outputs": [],
      "source": [
        "!wget https://raw.githubusercontent.com/HSE-LAMBDA/MLDM-2022/main/01-intro/train.csv"
      ]
    },
    {
      "cell_type": "code",
      "execution_count": null,
      "metadata": {
        "id": "G36oVo3RJXVc"
      },
      "outputs": [],
      "source": [
        "import pandas as pd\n",
        "data = pd.read_csv(\"train.csv\", index_col='PassengerId')\n",
        "data.head()"
      ]
    },
    {
      "cell_type": "markdown",
      "metadata": {
        "id": "EDHw3sHgJXVj"
      },
      "source": [
        "#### About the data\n",
        "Here's some of the columns\n",
        "* Name - a string with person's full name\n",
        "* Survived - 1 if a person survived the shipwreck, 0 otherwise.\n",
        "* Pclass - passenger class. Pclass == 3 is cheap'n'cheerful, Pclass == 1 is for moneybags.\n",
        "* Sex - a person's gender\n",
        "* Age - age in years, if available\n",
        "* SibSp - number of siblings on a ship\n",
        "* Parch - number of parents on a ship\n",
        "* Fare - ticket cost\n",
        "* Embarked - port where the passenger embarked\n",
        " * C = Cherbourg; Q = Queenstown; S = Southampton"
      ]
    },
    {
      "cell_type": "code",
      "execution_count": null,
      "metadata": {
        "id": "xhb45c3NzHAU"
      },
      "outputs": [],
      "source": [
        "from sklearn.linear_model import LogisticRegression\n",
        "from sklearn.pipeline import make_pipeline\n",
        "from sklearn.compose import make_column_transformer\n",
        "from sklearn.preprocessing import StandardScaler, RobustScaler, PolynomialFeatures, OneHotEncoder\n",
        "from sklearn.metrics import accuracy_score\n",
        "from sklearn.model_selection import train_test_split\n",
        "\n",
        "def feature_selection_and_preprocessing(dataset):\n",
        "  # <YOUR CODE>\n",
        "  # E.g.:\n",
        "  features = dataset[[\"Fare\", \"SibSp\", \"Parch\"]].copy()\n",
        "  features[\"Age\"] = dataset.Age.fillna(dataset.Age.median())\n",
        "\n",
        "  features['Embarked'] = data.Embarked.fillna('unknown')\n",
        "\n",
        "  return features\n",
        "\n",
        "model = make_pipeline(\n",
        "    # <YOUR CODE>\n",
        "    # E.g.\n",
        "    make_column_transformer(\n",
        "        (OneHotEncoder(sparse=False), ['Embarked']),\n",
        "        remainder='passthrough'\n",
        "    ),\n",
        "    LogisticRegression()\n",
        ")\n",
        "\n",
        "\n",
        "# Validation code (do not touch)\n",
        "data = pd.read_csv(\"train.csv\", index_col='PassengerId')\n",
        "data_train, data_test = train_test_split(data, test_size=200, random_state=42)\n",
        "\n",
        "model.fit(\n",
        "    feature_selection_and_preprocessing(\n",
        "        data_train.drop('Survived', axis=1)\n",
        "    ),\n",
        "    data_train['Survived']\n",
        ")\n",
        "\n",
        "train_predictions = model.predict(\n",
        "    feature_selection_and_preprocessing(\n",
        "        data_train.drop('Survived', axis=1)\n",
        "    )\n",
        ")\n",
        "\n",
        "test_predictions = model.predict(\n",
        "    feature_selection_and_preprocessing(\n",
        "        data_test.drop('Survived', axis=1)\n",
        "    )\n",
        ")\n",
        "\n",
        "print(\"Train accuracy:\", accuracy_score(\n",
        "    data_train['Survived'],\n",
        "    train_predictions\n",
        "))\n",
        "print(\"Test accuracy:\", accuracy_score(\n",
        "    data_test['Survived'],\n",
        "    test_predictions\n",
        "))"
      ]
    }
  ],
  "metadata": {
    "colab": {
      "collapsed_sections": [],
      "name": "Classification_HW.ipynb",
      "provenance": [],
      "include_colab_link": true
    },
    "kernelspec": {
      "display_name": "Python 3 (ipykernel)",
      "language": "python",
      "name": "python3"
    },
    "language_info": {
      "codemirror_mode": {
        "name": "ipython",
        "version": 3
      },
      "file_extension": ".py",
      "mimetype": "text/x-python",
      "name": "python",
      "nbconvert_exporter": "python",
      "pygments_lexer": "ipython3",
      "version": "3.8.11"
    }
  },
  "nbformat": 4,
  "nbformat_minor": 0
}