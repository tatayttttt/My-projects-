{
 "cells": [
  {
   "cell_type": "markdown",
   "metadata": {},
   "source": [
    "## Домашняя работа №1"
   ]
  },
  {
   "cell_type": "code",
   "execution_count": null,
   "metadata": {},
   "outputs": [],
   "source": [
    "import numpy as np\n",
    "import matplotlib as mpl\n",
    "import random as rd\n",
    "import array\n",
    "import matplotlib.pyplot as plt"
   ]
  },
  {
   "cell_type": "markdown",
   "metadata": {},
   "source": [
    "##### Задание 1. Найти максимальное и минимальное значение (глобальное) на траектории. Визуализировать эти точки на графике (желательно их подписать)."
   ]
  },
  {
   "cell_type": "code",
   "execution_count": null,
   "metadata": {},
   "outputs": [],
   "source": [
    "np.random.seed(42)\n",
    "vector=np.append(0, np.random.choice([-1,1], size=1000).cumsum());# с помощью функции np.random.choice генерируем вектор из -1 и 1\n",
    "                                                                  # с помощью np.append добавляем в вектор 1-ый элемент 0 "
   ]
  },
  {
   "cell_type": "code",
   "execution_count": null,
   "metadata": {},
   "outputs": [],
   "source": [
    "print(min(vector),\"MIN\")\n",
    "print(max(vector), \"MAX\")\n",
    "markers_on = [np.argmin(vector),np.argmax(vector)]#определяем наибольшее и наимеьшее значения в массиве 'vector' с помощь функции np.argmax\n",
    "plt.plot(vector, 'k--', markevery=markers_on, marker='D', markerfacecolor='red')# c помощью функции markervery ставим точки  максимального и минималного на случайзначения по оси у на графике plt.axvspan(88, 98, color='red', alpha=0.5)"
   ]
  },
  {
   "cell_type": "markdown",
   "metadata": {},
   "source": [
    "##### Задание 2. Найти значение индекса, начиная с которого будет сделано свыше 10 шагов в одну сторону. Визуализировать эти шаги на графике (достаночно другим цветом на графике выделить данный участок, желательно его подписать)."
   ]
  },
  {
   "cell_type": "markdown",
   "metadata": {},
   "source": [
    "###### Проверим для движения вправо (+1)"
   ]
  },
  {
   "cell_type": "code",
   "execution_count": null,
   "metadata": {},
   "outputs": [],
   "source": [
    "found=set()# генерируем вектор от 0 до 989, что будет представлять упорядоченный набор индексов ключевого вектора \"vector\"\n",
    "for i in range(0, 989):\n",
    "                    found.add(i)\n",
    "index=list(found)\n",
    "index#\n",
    "found=set()\n",
    "for i in index:\n",
    "    if vector[i+11]-vector[i]==11:  #свыше 10 шагов в одну сторону будет сделано в тот момент,\n",
    "                                    #когда в векоре \"vector\" 1 или -1 выпадет 11 раз подряд или когда в кумулятивной сумме\n",
    "                                    #приращение двух элементов, отсноящих друг от друга на 10 шагов, составит 11\n",
    "                                    #собираем индексы вектора 'vector', начиная с которых было сделано 11 шагов +1\n",
    "                    print(i)"
   ]
  },
  {
   "cell_type": "markdown",
   "metadata": {},
   "source": [
    "###### Проверим для движения влево (-1)"
   ]
  },
  {
   "cell_type": "code",
   "execution_count": null,
   "metadata": {},
   "outputs": [],
   "source": [
    "found=set()# генерируем вектор от 0 до 989, что будет представлять упорядоченный набор индексов ключевого вектора \"vector\"\n",
    "for i in range(0, 989):\n",
    "                    found.add(i)\n",
    "index=list(found)\n",
    "index#\n",
    "found=set()\n",
    "for i in index:\n",
    "    if vector[i]-vector[i+11]==11:  #свыше 10 шагов в одну сторону будет сделано в тот момент,\n",
    "                                    #когда в векоре \"vector\" 1 или -1 выпадет 11 раз подряд или когда в кумулятивной сумме\n",
    "                                    #приращение двух элементов, отсноящих друг от друга на 10 шагов, составит 11\n",
    "            print(i)                #собираем индексы вектора 'vector', начиная с которых было сделано 11 шагов -1\n",
    "    else:\n",
    "        print(\"влево(-1) not found\")\n",
    "    break"
   ]
  },
  {
   "cell_type": "markdown",
   "metadata": {},
   "source": [
    "###### Индекс 88- это первый индекс,  начиная с которого будет сделано свыше 10 шагов в одну сторону. Теперь найдём до какого индекса продолжались шаги в одну торону."
   ]
  },
  {
   "cell_type": "code",
   "execution_count": null,
   "metadata": {},
   "outputs": [],
   "source": [
    "found=set()\n",
    "for i in range(88, 999):\n",
    "                    found.add(i)\n",
    "index=list(found)\n",
    "index\n",
    "found=set()\n",
    "for i in index:\n",
    "    if vector[i+1]-vector[i]==1:\n",
    "        i\n",
    "    else:\n",
    "        print(i,'-до данного индекса продолжались шаги +1, начиная с индекса 88')\n",
    "        break"
   ]
  },
  {
   "cell_type": "code",
   "execution_count": null,
   "metadata": {},
   "outputs": [],
   "source": [
    "markers_on = [np.argmin(vector),np.argmax(vector)]\n",
    "plt.plot(vector, 'k--', markevery=markers_on, marker='D', markerfacecolor='red')\n",
    "plt.axvspan(88, 99, color='red', alpha=0.5)"
   ]
  },
  {
   "cell_type": "markdown",
   "metadata": {},
   "source": [
    "###### Задание 3. Найти значение индекса, с которого будет сделано максимальное количество шагов в одну сторону. Визуализировать эти шаги на графике (достаночно другим цветом на графике выделить данный участок, желательно его подписать)."
   ]
  },
  {
   "cell_type": "code",
   "execution_count": null,
   "metadata": {},
   "outputs": [],
   "source": [
    "#Нужно проверить, для какого из ранее найденных индексов (88 или 984) количество шаговов, сделанных в оду сторону, наибольшее\n",
    "found=set()\n",
    "for i in range(88, 999):\n",
    "                    found.add(i)\n",
    "index=list(found)\n",
    "index\n",
    "found=set()\n",
    "for i in index:\n",
    "    if vector[i+1]-vector[i]==1:\n",
    "        i\n",
    "    else:\n",
    "        print(i-88, '-количество шагов (+1) в одну сторону, начиная с индекса 88')\n",
    "        break"
   ]
  },
  {
   "cell_type": "code",
   "execution_count": null,
   "metadata": {},
   "outputs": [],
   "source": [
    "found=set()\n",
    "for i in range(984, 999):\n",
    "                    found.add(i)\n",
    "index=list(found)\n",
    "index\n",
    "found=set()\n",
    "for i in index:\n",
    "    if vector[i+1]-vector[i]==1:\n",
    "        i\n",
    "    else:\n",
    "        print(i-984, '-количество шагов (+1) в одну сторону, начиная с индекса 984')\n",
    "        break"
   ]
  },
  {
   "cell_type": "code",
   "execution_count": null,
   "metadata": {},
   "outputs": [],
   "source": [
    "markers_on = [np.argmin(vector),np.argmax(vector)]\n",
    "plt.plot(vector, 'k--', markevery=markers_on, marker='D', markerfacecolor='red')\n",
    "plt.axvspan(88, 99, color='blue', alpha=0.5)\n",
    "plt.axvspan(984, 995, color='blue', alpha=0.5) #поскольку и индекс 88, и индекс 984 - индексы,\n",
    "                                               #визуализируем интервалы одноторонних шагов для обоих из них."
   ]
  },
  {
   "cell_type": "code",
   "execution_count": null,
   "metadata": {},
   "outputs": [],
   "source": []
  }
 ],
 "metadata": {
  "kernelspec": {
   "display_name": "Python 3",
   "language": "python",
   "name": "python3"
  },
  "language_info": {
   "codemirror_mode": {
    "name": "ipython",
    "version": 3
   },
   "file_extension": ".py",
   "mimetype": "text/x-python",
   "name": "python",
   "nbconvert_exporter": "python",
   "pygments_lexer": "ipython3",
   "version": "3.8.3"
  }
 },
 "nbformat": 4,
 "nbformat_minor": 4
}
