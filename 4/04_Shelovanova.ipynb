{
 "cells": [
  {
   "cell_type": "code",
   "execution_count": null,
   "metadata": {},
   "outputs": [],
   "source": [
    "import numpy as np\n",
    "import pandas as pd\n",
    "import seaborn as sns\n",
    "import matplotlib.pyplot as plt\n",
    "from IPython.display import display"
   ]
  },
  {
   "cell_type": "code",
   "execution_count": null,
   "metadata": {},
   "outputs": [],
   "source": [
    "#Подгружаем данные\n",
    "data = pd.ExcelFile(\"GOS 2019 for AD.xlsx\")\n",
    "var_1 = data.parse('Вариант 1')\n",
    "var_2 = data.parse('Вариант 2')\n",
    "var_3 = data.parse('Вариант 3')\n",
    "var_4 = data.parse('Вариант 4')"
   ]
  },
  {
   "cell_type": "markdown",
   "metadata": {},
   "source": [
    "#### Поиск статистики правильных ответов"
   ]
  },
  {
   "cell_type": "code",
   "execution_count": null,
   "metadata": {},
   "outputs": [],
   "source": [
    "# Ищем правильные ответы для каждого варианта путём сравнения ответа студента с соотетвующим верным ответом\n",
    "# в колонке \"Верные ответы\" \n",
    "def func1(f):\n",
    "    return f == var_1[\"Верный ответ\"]\n",
    "def func2(f):\n",
    "    return f == var_2[\"Верный ответ\"]\n",
    "def func3(f):\n",
    "    return f == var_3[\"Верный ответ\"]\n",
    "def func4(f):\n",
    "    return f == var_4[\"Верный ответ\"]\n",
    "#Получаем 4 фрейма с числом правильных ответов для каждого студента \n",
    "true_1 = var_1.apply(func1).sum().to_frame().iloc[2:,:]\n",
    "true_2 = var_2.apply(func2).sum().to_frame().iloc[2:,:]\n",
    "true_3 = var_3.apply(func3).sum().to_frame().iloc[2:,:]\n",
    "true_4 = var_4.apply(func4).sum().to_frame().iloc[2:,:]\n",
    "#Получаем общую таблицу с числом правильных ответов для ВСЕХ студента \n",
    "true_all = pd.concat([true_1,true_2,true_3,true_4]).sort_values(by = [0]).rename_axis(\"Студент\")\n",
    "stat = true_all.rename(columns = {0: \"Правильные ответы\"}).reset_index()\n",
    "stat.T.squeeze()\n",
    "\n"
   ]
  },
  {
   "cell_type": "markdown",
   "metadata": {},
   "source": [
    "#### Поиск  рубежных  баллов  для квантильных оценок"
   ]
  },
  {
   "cell_type": "code",
   "execution_count": null,
   "metadata": {},
   "outputs": [],
   "source": [
    "chisl = [1.5,3,4.5,6,7, 8] #выбираем числители соответсвующие единому знаменателю для отбора квантильных оценок\n",
    "quants = []\n",
    "for i in chisl:\n",
    "       quants = np.append(quants,stat.quantile(i/9))\n",
    "quant_values = np.append(np.append(8,np.round(quants,0)),41).astype(int) #последний элемент-41, так как необходимо будет,чтобы он в дальнейшим включался\n",
    "quant_values"
   ]
  },
  {
   "cell_type": "markdown",
   "metadata": {},
   "source": [
    "#### Узнаём какому баллу  соответсвует то или иное число верных ответов"
   ]
  },
  {
   "cell_type": "code",
   "execution_count": null,
   "metadata": {},
   "outputs": [],
   "source": [
    "#Формируем диапазон баллов теста  для каждой из 10-ти бальны оценок \n",
    "suppoter = range(0,len(quant_values)-1)\n",
    "span = []\n",
    "for j in suppoter: \n",
    "    span.append(range(quant_values[j],quant_values[j+1]))\n",
    "\n",
    "#Cоздаём фрейм, отражающий какому баллу по 10-ти бальной шкале соответсвует то или иное число верных ответов     \n",
    "parts = []\n",
    "suppoter2 = range(0,len(span))\n",
    "for j in suppoter2:      \n",
    "    df = pd.DataFrame({j+4: span[j]})\n",
    "    parts.append(df)\n",
    "scores = pd.concat(parts, ignore_index = True).stack().to_frame(name = (\"Правильные ответы\"))\n",
    "scores.index.names = ['№',\"Баллы\"]\n",
    "tab_scores = scores.reset_index(level = 1)"
   ]
  },
  {
   "cell_type": "markdown",
   "metadata": {},
   "source": [
    "#### Присваем каждому студенту балл по 10-ти бальной школе в соответствии с количеством верных ответов "
   ]
  },
  {
   "cell_type": "code",
   "execution_count": null,
   "metadata": {},
   "outputs": [],
   "source": [
    "answers_scores = pd.merge(stat,tab_scores, on = \"Правильные ответы\")\n",
    "#v=final.pivot( columns='Баллы', values='Студент')\n",
    "answers_scores[\"Оценка\"] = answers_scores[\"Баллы\"]\n",
    "final_scores = answers_scores.replace({\"Оценка\":{4:\"Удовл\",5:\"Удовл\",6:\"Хорошо\", 7:\"Хорошо\",8:\"Отлично\",9:\"Отлично\",10:\"Отлично\"}})\n",
    "final_scores"
   ]
  },
  {
   "cell_type": "markdown",
   "metadata": {},
   "source": [
    "## Удоволитворительно"
   ]
  },
  {
   "cell_type": "code",
   "execution_count": null,
   "metadata": {},
   "outputs": [],
   "source": [
    "dd=final_scores[final_scores['Оценка'] == 'Удовл']\n",
    "dd.set_index(['Студент', 'Баллы']).sort_index(level = 1)"
   ]
  },
  {
   "cell_type": "markdown",
   "metadata": {},
   "source": [
    "## Хорошо"
   ]
  },
  {
   "cell_type": "code",
   "execution_count": null,
   "metadata": {},
   "outputs": [],
   "source": [
    "dd=final_scores[final_scores['Оценка'] == 'Хорошо']\n",
    "dd.set_index(['Студент', 'Баллы']).sort_index(level = 1)"
   ]
  },
  {
   "cell_type": "markdown",
   "metadata": {},
   "source": [
    "## Отлично "
   ]
  },
  {
   "cell_type": "code",
   "execution_count": null,
   "metadata": {},
   "outputs": [],
   "source": [
    "dd=final_scores[final_scores['Оценка'] == 'Отлично']\n",
    "dd.set_index(['Студент', 'Баллы']).sort_index(level = 1)"
   ]
  }
 ],
 "metadata": {
  "kernelspec": {
   "display_name": "Python 3",
   "language": "python",
   "name": "python3"
  },
  "language_info": {
   "codemirror_mode": {
    "name": "ipython",
    "version": 3
   },
   "file_extension": ".py",
   "mimetype": "text/x-python",
   "name": "python",
   "nbconvert_exporter": "python",
   "pygments_lexer": "ipython3",
   "version": "3.8.3"
  }
 },
 "nbformat": 4,
 "nbformat_minor": 4
}
