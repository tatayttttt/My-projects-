{
 "cells": [
  {
   "cell_type": "code",
   "execution_count": null,
   "metadata": {},
   "outputs": [],
   "source": [
    "import numpy as np\n",
    "import pandas as pd"
   ]
  },
  {
   "cell_type": "code",
   "execution_count": null,
   "metadata": {},
   "outputs": [],
   "source": [
    "#подгружаем данные с аэропортами\n",
    "columns = ['Airport ID', 'Name', 'City', 'Country', 'IATA', \n",
    "           'ICAO', 'Latitude', 'Longitude', 'Altitude', 'Timezone', \n",
    "           'DST', 'Tz database', 'Type', 'Source']\n",
    "airports = pd.read_csv('airports.csv', \n",
    "                       names = columns)"
   ]
  },
  {
   "cell_type": "code",
   "execution_count": null,
   "metadata": {},
   "outputs": [],
   "source": [
    "airports[airports.IATA.str.len()<3][\"IATA\"].unique()\n",
    "airports=airports.replace(\"\\\\N\",np.nan)\n",
    "airports['Tz database'].unique();"
   ]
  },
  {
   "cell_type": "code",
   "execution_count": null,
   "metadata": {},
   "outputs": [],
   "source": [
    "#Удаляем лишние столбцы\n",
    "airports2=airports.drop(['ICAO','Latitude','Longitude','Altitude','Timezone','DST','Type','Source','Name','Airport ID','City'],axis='columns')\n",
    "airports2_cln=airports2.dropna()#Удаляем строки с пропущенными данными "
   ]
  },
  {
   "cell_type": "code",
   "execution_count": null,
   "metadata": {},
   "outputs": [],
   "source": [
    "#отбираем аэропорты Европы.Здесь всё ещё есть Россия и Турция!\n",
    "airports2_cln\n",
    "euro_air = airports2_cln[airports2_cln['Tz database'].str.contains('Europe', na=False)]\n",
    "euro_air=euro_air.drop(['Tz database'],axis=1)\n",
    "euro_air.index=euro_air['IATA']\n",
    "euro_air;"
   ]
  },
  {
   "cell_type": "code",
   "execution_count": null,
   "metadata": {},
   "outputs": [],
   "source": [
    "#Подгружаем данные с вылетами \n",
    "columns = ['Air NAME', 'Air ID', 'Air_From_NAME', 'Air_From ID', 'Air_To_NAME',           \n",
    "    'Air_To ID', 'Nan', 'O', 'CR2']\n",
    "routes = pd.read_csv('C:/Users/123/Downloads/routes.csv', \n",
    "                       names = columns)\n",
    "routes.drop(['Nan','O',\"CR2\"],  axis=1,inplace=True)#Удалям лишние столбцы\n",
    "flights=routes['Air_From_NAME'].value_counts()#считаем частоту вылета из каждого аэропорта\n",
    "val=pd.Series(flights.tolist(),index=flights.keys().tolist())#Создаем Frame, где код IATA- индекс, а число вылетов из него-значение "
   ]
  },
  {
   "cell_type": "code",
   "execution_count": null,
   "metadata": {},
   "outputs": [],
   "source": [
    "euro_air['Num_flights']=val\n",
    "euro_air_cln=euro_air.dropna()\n",
    "euro_air_cln.index=euro_air_cln['Country']\n",
    "euro_air_cln=euro_air_cln.drop(['Russia','Turkey'])\n",
    "new=euro_air_cln.set_index(['Country','IATA'])\n",
    "new=new.sort_values(by='Num_flights',ascending=False)\n",
    "r=new.sort_index(level=0).sort_values(by='Num_flights',ascending=False)\n",
    "r"
   ]
  },
  {
   "cell_type": "code",
   "execution_count": null,
   "metadata": {},
   "outputs": [],
   "source": []
  }
 ],
 "metadata": {
  "kernelspec": {
   "display_name": "Python 3",
   "language": "python",
   "name": "python3"
  },
  "language_info": {
   "codemirror_mode": {
    "name": "ipython",
    "version": 3
   },
   "file_extension": ".py",
   "mimetype": "text/x-python",
   "name": "python",
   "nbconvert_exporter": "python",
   "pygments_lexer": "ipython3",
   "version": "3.8.3"
  }
 },
 "nbformat": 4,
 "nbformat_minor": 4
}
